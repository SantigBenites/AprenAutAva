{
 "cells": [
  {
   "cell_type": "markdown",
   "metadata": {},
   "source": [
    "# TP3\n",
    "\n",
    "Authors\n",
    "Santiago Benites fc54392\n",
    "Joao Ferreira fc55312"
   ]
  },
  {
   "cell_type": "code",
   "execution_count": 48,
   "metadata": {},
   "outputs": [],
   "source": [
    "from sklearn.datasets import load_breast_cancer\n",
    "from sklearn.tree import DecisionTreeClassifier\n",
    "from sklearn.svm import SVC\n",
    "from sklearn.neighbors import KNeighborsClassifier\n",
    "from sklearn.neural_network import MLPClassifier\n",
    "import numpy as np"
   ]
  },
  {
   "cell_type": "markdown",
   "metadata": {},
   "source": [
    "Load Data"
   ]
  },
  {
   "cell_type": "code",
   "execution_count": 49,
   "metadata": {},
   "outputs": [],
   "source": [
    "from sklearn.model_selection import train_test_split\n",
    "\n",
    "data,target = load_breast_cancer(return_X_y=True)\n",
    "X = data\n",
    "y = target\n",
    "\n",
    "X_train, X_test, y_train, y_test = train_test_split(X, y, test_size=0.33, random_state=123)"
   ]
  },
  {
   "cell_type": "markdown",
   "metadata": {},
   "source": [
    "Fit Models"
   ]
  },
  {
   "cell_type": "code",
   "execution_count": 50,
   "metadata": {},
   "outputs": [],
   "source": [
    "models = [\n",
    "    DecisionTreeClassifier(criterion=\"gini\"),\n",
    "    DecisionTreeClassifier(criterion=\"entropy\"),\n",
    "    SVC(kernel=\"rbf\"),\n",
    "    SVC(kernel=\"poly\"),\n",
    "    KNeighborsClassifier(),\n",
    "    MLPClassifier()]\n",
    "fittedModels = []\n",
    "\n",
    "for current_model in models:\n",
    "    current_fitted = current_model.fit(X_train,y_train)\n",
    "    fittedModels.append(current_fitted)"
   ]
  },
  {
   "cell_type": "markdown",
   "metadata": {},
   "source": [
    "Create Average Ensemble Model"
   ]
  },
  {
   "cell_type": "code",
   "execution_count": 51,
   "metadata": {},
   "outputs": [
    {
     "name": "stdout",
     "output_type": "stream",
     "text": [
      "Model has accuracy of 0.9627659574468085\n"
     ]
    }
   ],
   "source": [
    "from sklearn.metrics import accuracy_score\n",
    "from scipy.special import softmax\n",
    "\n",
    "weights_scores = [accuracy_score(y_test,model.predict(X_test)) for model in fittedModels]\n",
    "\n",
    "models_prediction = [model.predict(X_test) for model in fittedModels]\n",
    "final_prediction = []\n",
    "\n",
    "for index,entry in enumerate(y_test):\n",
    "\n",
    "    current_index_prediction = [response[index] for response in models_prediction]\n",
    "    entry_response = round(softmax(weights_scores) @ current_index_prediction)\n",
    "    final_prediction.append(entry_response)\n",
    "\n",
    "score = accuracy_score(y_test,final_prediction)\n",
    "print(f\"Model has accuracy of {score}\")"
   ]
  }
 ],
 "metadata": {
  "kernelspec": {
   "display_name": "Python 3.10.9 ('base')",
   "language": "python",
   "name": "python3"
  },
  "language_info": {
   "codemirror_mode": {
    "name": "ipython",
    "version": 3
   },
   "file_extension": ".py",
   "mimetype": "text/x-python",
   "name": "python",
   "nbconvert_exporter": "python",
   "pygments_lexer": "ipython3",
   "version": "3.10.9"
  },
  "orig_nbformat": 4,
  "vscode": {
   "interpreter": {
    "hash": "0d0101d8de2fa226740f20675abcb7fe23ca803cfbae0223a6d46400b71567ca"
   }
  }
 },
 "nbformat": 4,
 "nbformat_minor": 2
}
