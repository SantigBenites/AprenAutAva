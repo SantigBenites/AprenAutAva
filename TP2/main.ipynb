{
 "cells": [
  {
   "cell_type": "code",
   "execution_count": 2,
   "metadata": {},
   "outputs": [
    {
     "name": "stdout",
     "output_type": "stream",
     "text": [
      "Model has accuracy of 0.6949152542372882\n"
     ]
    }
   ],
   "source": [
    "#Import Library\n",
    "from sklearn import svm\n",
    "import pandas as pd\n",
    "from sklearn.metrics import accuracy_score\n",
    "import warnings\n",
    "warnings.filterwarnings('ignore')\n",
    "\n",
    "#Load Train and Test datasets\n",
    "#Identify feature and response variable(s) and values must be numeric and numpy arrays\n",
    "train=pd.read_csv('train.csv')\n",
    "train_y=train['Loan_Status']\n",
    "train_x=train.drop([\"Loan_Status\"],axis=1)\n",
    "\n",
    "test=pd.read_csv('test.csv')\n",
    "test_y=test['Loan_Status']\n",
    "test_x=test.drop([\"Loan_Status\"],axis=1)\n",
    "\n",
    "support = svm.LinearSVC(random_state=20)\n",
    "\n",
    "# Train the model using the training sets and check score on test dataset\n",
    "support.fit(train_x, train_y)\n",
    "predicted= support.predict(test_x)\n",
    "score=accuracy_score(test_y,predicted)\n",
    "print(f\"Model has accuracy of {score}\")"
   ]
  },
  {
   "cell_type": "code",
   "execution_count": 3,
   "metadata": {},
   "outputs": [
    {
     "name": "stdout",
     "output_type": "stream",
     "text": [
      "Model without feature Loan_ID has accuracy of 0.6949152542372882\n",
      "Model without feature Gender has accuracy of 0.6949152542372882\n",
      "Model without feature Married has accuracy of 0.6949152542372882\n",
      "Model without feature Dependents has accuracy of 0.6949152542372882\n",
      "Model without feature Self_Employed has accuracy of 0.6949152542372882\n",
      "Model without feature ApplicantIncome has accuracy of 0.5932203389830508\n",
      "Model without feature CoapplicantIncome has accuracy of 0.6949152542372882\n",
      "Model without feature LoanAmount has accuracy of 0.6949152542372882\n",
      "Model without feature Loan_Amount_Term has accuracy of 0.6666666666666666\n",
      "Model without feature Property_Area has accuracy of 0.6949152542372882\n"
     ]
    }
   ],
   "source": [
    "list_feature = list(train.drop([\"Loan_Status\"],axis=1))\n",
    "\n",
    "for feature in list_feature:\n",
    "\n",
    "    # Remove test feature\n",
    "    Ctrain_x=train_x.drop([feature],axis=1)\n",
    "    Ctest_x=test_x.drop([feature],axis=1)\n",
    "\n",
    "    # Create Linear SVM object\n",
    "    support = svm.LinearSVC(random_state=20)\n",
    "\n",
    "    # Train the model using the training sets and check score on test dataset\n",
    "    support.fit(Ctrain_x, train_y)\n",
    "    predicted= support.predict(Ctest_x)\n",
    "    score=accuracy_score(test_y,predicted)\n",
    "    print(f\"Model without feature {feature} has accuracy of {score}\")\n",
    "    #train.to_csv( \"pred.csv\")"
   ]
  },
  {
   "cell_type": "code",
   "execution_count": 4,
   "metadata": {},
   "outputs": [
    {
     "name": "stdout",
     "output_type": "stream",
     "text": [
      "Model without feature Property_Area has accuracy of 0.7062146892655368\n",
      "Model without feature Property_Area has accuracy of 0.6949152542372882\n",
      "Model without feature Property_Area has accuracy of 0.6949152542372882\n",
      "Model without feature Property_Area has accuracy of 0.5875706214689266\n"
     ]
    },
    {
     "ename": "ValueError",
     "evalue": "Precomputed matrix must be a square matrix. Input is a 437x10 matrix.",
     "output_type": "error",
     "traceback": [
      "\u001b[0;31m---------------------------------------------------------------------------\u001b[0m",
      "\u001b[0;31mValueError\u001b[0m                                Traceback (most recent call last)",
      "Cell \u001b[0;32mIn[4], line 9\u001b[0m\n\u001b[1;32m      6\u001b[0m support \u001b[39m=\u001b[39m svm\u001b[39m.\u001b[39mSVC(random_state\u001b[39m=\u001b[39m\u001b[39m20\u001b[39m,kernel \u001b[39m=\u001b[39m kernel_func)\n\u001b[1;32m      8\u001b[0m \u001b[39m# Train the model using the training sets and check score on test dataset\u001b[39;00m\n\u001b[0;32m----> 9\u001b[0m support\u001b[39m.\u001b[39;49mfit(train_x, train_y)\n\u001b[1;32m     10\u001b[0m predicted\u001b[39m=\u001b[39m support\u001b[39m.\u001b[39mpredict(test_x)\n\u001b[1;32m     11\u001b[0m score\u001b[39m=\u001b[39maccuracy_score(test_y,predicted)\n",
      "File \u001b[0;32m~/Programs/mambaforge/lib/python3.10/site-packages/sklearn/svm/_base.py:217\u001b[0m, in \u001b[0;36mBaseLibSVM.fit\u001b[0;34m(self, X, y, sample_weight)\u001b[0m\n\u001b[1;32m    211\u001b[0m     \u001b[39mraise\u001b[39;00m \u001b[39mValueError\u001b[39;00m(\n\u001b[1;32m    212\u001b[0m         \u001b[39m\"\u001b[39m\u001b[39mX and y have incompatible shapes.\u001b[39m\u001b[39m\\n\u001b[39;00m\u001b[39m\"\u001b[39m\n\u001b[1;32m    213\u001b[0m         \u001b[39m+\u001b[39m \u001b[39m\"\u001b[39m\u001b[39mX has \u001b[39m\u001b[39m%s\u001b[39;00m\u001b[39m samples, but y has \u001b[39m\u001b[39m%s\u001b[39;00m\u001b[39m.\u001b[39m\u001b[39m\"\u001b[39m \u001b[39m%\u001b[39m (n_samples, y\u001b[39m.\u001b[39mshape[\u001b[39m0\u001b[39m])\n\u001b[1;32m    214\u001b[0m     )\n\u001b[1;32m    216\u001b[0m \u001b[39mif\u001b[39;00m \u001b[39mself\u001b[39m\u001b[39m.\u001b[39mkernel \u001b[39m==\u001b[39m \u001b[39m\"\u001b[39m\u001b[39mprecomputed\u001b[39m\u001b[39m\"\u001b[39m \u001b[39mand\u001b[39;00m n_samples \u001b[39m!=\u001b[39m X\u001b[39m.\u001b[39mshape[\u001b[39m1\u001b[39m]:\n\u001b[0;32m--> 217\u001b[0m     \u001b[39mraise\u001b[39;00m \u001b[39mValueError\u001b[39;00m(\n\u001b[1;32m    218\u001b[0m         \u001b[39m\"\u001b[39m\u001b[39mPrecomputed matrix must be a square matrix.\u001b[39m\u001b[39m\"\u001b[39m\n\u001b[1;32m    219\u001b[0m         \u001b[39m\"\u001b[39m\u001b[39m Input is a \u001b[39m\u001b[39m{}\u001b[39;00m\u001b[39mx\u001b[39m\u001b[39m{}\u001b[39;00m\u001b[39m matrix.\u001b[39m\u001b[39m\"\u001b[39m\u001b[39m.\u001b[39mformat(X\u001b[39m.\u001b[39mshape[\u001b[39m0\u001b[39m], X\u001b[39m.\u001b[39mshape[\u001b[39m1\u001b[39m])\n\u001b[1;32m    220\u001b[0m     )\n\u001b[1;32m    222\u001b[0m \u001b[39mif\u001b[39;00m sample_weight\u001b[39m.\u001b[39mshape[\u001b[39m0\u001b[39m] \u001b[39m>\u001b[39m \u001b[39m0\u001b[39m \u001b[39mand\u001b[39;00m sample_weight\u001b[39m.\u001b[39mshape[\u001b[39m0\u001b[39m] \u001b[39m!=\u001b[39m n_samples:\n\u001b[1;32m    223\u001b[0m     \u001b[39mraise\u001b[39;00m \u001b[39mValueError\u001b[39;00m(\n\u001b[1;32m    224\u001b[0m         \u001b[39m\"\u001b[39m\u001b[39msample_weight and X have incompatible shapes: \u001b[39m\u001b[39m\"\u001b[39m\n\u001b[1;32m    225\u001b[0m         \u001b[39m\"\u001b[39m\u001b[39m%r\u001b[39;00m\u001b[39m vs \u001b[39m\u001b[39m%r\u001b[39;00m\u001b[39m\\n\u001b[39;00m\u001b[39m\"\u001b[39m\n\u001b[0;32m   (...)\u001b[0m\n\u001b[1;32m    228\u001b[0m         \u001b[39m%\u001b[39m (sample_weight\u001b[39m.\u001b[39mshape, X\u001b[39m.\u001b[39mshape)\n\u001b[1;32m    229\u001b[0m     )\n",
      "\u001b[0;31mValueError\u001b[0m: Precomputed matrix must be a square matrix. Input is a 437x10 matrix."
     ]
    }
   ],
   "source": [
    "kernel_functions = ['linear', 'poly', 'rbf', 'sigmoid', 'precomputed']\n",
    "\n",
    "for kernel_func in kernel_functions:\n",
    "\n",
    "    # Create Linear SVM object\n",
    "    support = svm.SVC(random_state=20,kernel = kernel_func)\n",
    "\n",
    "    # Train the model using the training sets and check score on test dataset\n",
    "    support.fit(train_x, train_y)\n",
    "    predicted= support.predict(test_x)\n",
    "    score=accuracy_score(test_y,predicted)\n",
    "    print(f\"Model with {kernel_func} has accuracy of {score}\")\n",
    "    #train.to_csv( \"pred.csv\")\n",
    "\n"
   ]
  }
 ],
 "metadata": {
  "kernelspec": {
   "display_name": "Python 3.10.9 ('base')",
   "language": "python",
   "name": "python3"
  },
  "language_info": {
   "codemirror_mode": {
    "name": "ipython",
    "version": 3
   },
   "file_extension": ".py",
   "mimetype": "text/x-python",
   "name": "python",
   "nbconvert_exporter": "python",
   "pygments_lexer": "ipython3",
   "version": "3.10.9"
  },
  "orig_nbformat": 4,
  "vscode": {
   "interpreter": {
    "hash": "0d0101d8de2fa226740f20675abcb7fe23ca803cfbae0223a6d46400b71567ca"
   }
  }
 },
 "nbformat": 4,
 "nbformat_minor": 2
}
