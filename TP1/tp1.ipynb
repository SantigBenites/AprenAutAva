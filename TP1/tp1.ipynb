{
 "cells": [
  {
   "cell_type": "code",
   "execution_count": null,
   "metadata": {},
   "outputs": [],
   "source": [
    "import numpy as np\n",
    "from tensorflow.keras.models import Sequential, Model\n",
    "from tensorflow.keras.layers import Dense, Input, Concatenate\n",
    "from tensorflow.keras.optimizers import SGD\n",
    "from tensorflow.keras.utils import plot_model\n",
    "\n",
    "x = np.array([[0,0],[0,1],[1,0],[1,1]], \"float32\")\n",
    "y = np.array([[0],[1],[1],[0]], \"float32\")\n",
    "\n",
    "model = Sequential()\n",
    "model.add(Dense(2,activation=\"sigmoid\"))\n",
    "model.add(Dense(1,activation=\"sigmoid\"))\n",
    "model.compile(loss = \"mean_squared_error\",\n",
    "              optimizer = SGD(learning_rate=0.1),\n",
    "              metrics = ['accuracy']\n",
    "              )\n",
    "model.fit(x,y,epochs=5,batch_size = 1)\n",
    "# like 5000 epochs\n",
    "print(model.evaluate(x,y))\n",
    "print((model.predict(x) > 0.5).astype(\"int32\"))\n",
    "\n",
    "model.summary()\n",
    "plot_model(model,show_shapes = True)\n",
    "\n",
    "inputs = Input(shape = (2,))\n",
    "out = Dense(1,activation=\"sigmoid\")(inputs)\n",
    "o = Concatenate(axis=1)([out,inputs])\n",
    "out2 = Dense(1,activation = \"sigmoid\")(o)\n",
    "model1 = Model(inputs = inputs, outputs = out2)\n",
    "\n",
    "model1.summary()\n",
    "plot_model(model1,show_shapes = True)"
   ]
  },
  {
   "cell_type": "code",
   "execution_count": 6,
   "metadata": {},
   "outputs": [
    {
     "name": "stdout",
     "output_type": "stream",
     "text": [
      "Epoch 1/5\n",
      "4/4 [==============================] - 0s 2ms/step - loss: 0.1406 - accuracy: 0.7500\n",
      "Epoch 2/5\n",
      "4/4 [==============================] - 0s 1ms/step - loss: 0.0900 - accuracy: 1.0000\n",
      "Epoch 3/5\n",
      "4/4 [==============================] - 0s 2ms/step - loss: 0.0570 - accuracy: 1.0000\n",
      "Epoch 4/5\n",
      "4/4 [==============================] - 0s 1ms/step - loss: 0.0410 - accuracy: 1.0000\n",
      "Epoch 5/5\n",
      "4/4 [==============================] - 0s 3ms/step - loss: 0.0310 - accuracy: 1.0000\n",
      "1/1 [==============================] - 0s 88ms/step - loss: 0.0166 - accuracy: 1.0000\n",
      "[0.01659509539604187, 1.0]\n",
      "Model: \"sequential_5\"\n",
      "_________________________________________________________________\n",
      " Layer (type)                Output Shape              Param #   \n",
      "=================================================================\n",
      " dense_12 (Dense)            (None, 2)                 6         \n",
      "                                                                 \n",
      " dense_13 (Dense)            (None, 1)                 3         \n",
      "                                                                 \n",
      "=================================================================\n",
      "Total params: 9\n",
      "Trainable params: 9\n",
      "Non-trainable params: 0\n",
      "_________________________________________________________________\n",
      "You must install pydot (`pip install pydot`) and install graphviz (see instructions at https://graphviz.gitlab.io/download/) for plot_model to work.\n"
     ]
    }
   ],
   "source": [
    "import numpy as np\n",
    "import os\n",
    "os.environ['TF_CPP_MIN_LOG_LEVEL'] = '3' \n",
    "from keras.models import Sequential, Model\n",
    "from keras.layers import Dense, Input, Concatenate\n",
    "from keras.optimizers import SGD\n",
    "from keras.utils import plot_model\n",
    "\n",
    "# [ w11 , w12 ] \n",
    "# [ w21 , w22 ] * [ x1 , x2 ] + [ b1 , b2 ]\n",
    "# [ w31 , w32 ] \n",
    "\n",
    "\n",
    "x = np.array([[0,0],[0,1],[1,0],[1,1]], \"float32\")\n",
    "y = np.array([[0],[1],[1],[0]], \"float32\")\n",
    "\n",
    "model = Sequential()\n",
    "# Functions = [\"relu\",\"sigmoid\",\"tanh\"]\n",
    "model.add(Dense(2,activation=\"relu\"))\n",
    "model.add(Dense(1,activation=\"relu\"))\n",
    "optimizer = SGD(learning_rate=0.1, momentum= 0) # Change momentum from 0 to 0.9\n",
    "model.compile(loss = \"mean_squared_error\",\n",
    "              optimizer = optimizer,\n",
    "              metrics = ['accuracy']\n",
    "              )\n",
    "model.fit(x,y,epochs=5,batch_size = 1)\n",
    "\n",
    "\n",
    "print(model.evaluate(x,y))\n",
    "model.summary()\n",
    "plot_model(model,show_shapes = True)\n"
   ]
  }
 ],
 "metadata": {
  "kernelspec": {
   "display_name": "Python 3.10.9 ('base')",
   "language": "python",
   "name": "python3"
  },
  "language_info": {
   "codemirror_mode": {
    "name": "ipython",
    "version": 3
   },
   "file_extension": ".py",
   "mimetype": "text/x-python",
   "name": "python",
   "nbconvert_exporter": "python",
   "pygments_lexer": "ipython3",
   "version": "3.10.9"
  },
  "orig_nbformat": 4,
  "vscode": {
   "interpreter": {
    "hash": "0d0101d8de2fa226740f20675abcb7fe23ca803cfbae0223a6d46400b71567ca"
   }
  }
 },
 "nbformat": 4,
 "nbformat_minor": 2
}
